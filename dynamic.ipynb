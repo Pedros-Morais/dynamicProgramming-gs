{
 "cells": [
  {
   "cell_type": "code",
   "execution_count": 6,
   "metadata": {},
   "outputs": [
    {
     "name": "stdout",
     "output_type": "stream",
     "text": [
      "Requirement already satisfied: scikit-learn in /Library/Frameworks/Python.framework/Versions/3.12/lib/python3.12/site-packages (1.5.0)\n",
      "Requirement already satisfied: numpy>=1.19.5 in /Library/Frameworks/Python.framework/Versions/3.12/lib/python3.12/site-packages (from scikit-learn) (1.26.4)\n",
      "Requirement already satisfied: scipy>=1.6.0 in /Library/Frameworks/Python.framework/Versions/3.12/lib/python3.12/site-packages (from scikit-learn) (1.13.1)\n",
      "Requirement already satisfied: joblib>=1.2.0 in /Library/Frameworks/Python.framework/Versions/3.12/lib/python3.12/site-packages (from scikit-learn) (1.4.2)\n",
      "Requirement already satisfied: threadpoolctl>=3.1.0 in /Library/Frameworks/Python.framework/Versions/3.12/lib/python3.12/site-packages (from scikit-learn) (3.5.0)\n",
      "Note: you may need to restart the kernel to use updated packages.\n"
     ]
    }
   ],
   "source": [
    "%pip install scikit-learn"
   ]
  },
  {
   "cell_type": "code",
   "execution_count": 1,
   "metadata": {},
   "outputs": [
    {
     "name": "stdout",
     "output_type": "stream",
     "text": [
      "Digite as coordenadas do primeiro ponto:\n",
      "\n",
      "Digite as coordenadas do segundo ponto:\n",
      "\n",
      "A distância entre (1.0, 2.0) e (3.0, 4.0) é 2.83\n"
     ]
    }
   ],
   "source": [
    "import math\n",
    "\n",
    "def calcular_distancia(ponto1, ponto2):\n",
    "    \"\"\"\n",
    "    Calcula a distância euclidiana entre dois pontos.\n",
    "\n",
    "    Args:\n",
    "    ponto1, ponto2: Tuplas ou listas contendo as coordenadas dos pontos (x, y).\n",
    "\n",
    "    Retorna:\n",
    "    A distância entre os dois pontos.\n",
    "    \"\"\"\n",
    "    return math.sqrt((ponto1[0] - ponto2[0])**2 + (ponto1[1] - ponto2[1])**2)\n",
    "\n",
    "# Solicitar coordenadas ao usuário\n",
    "print(\"Digite as coordenadas do primeiro ponto:\")\n",
    "x1 = float(input(\"x1: \"))\n",
    "y1 = float(input(\"y1: \"))\n",
    "ponto_a = (x1, y1)\n",
    "\n",
    "print(\"\\nDigite as coordenadas do segundo ponto:\")\n",
    "x2 = float(input(\"x2: \"))\n",
    "y2 = float(input(\"y2: \"))\n",
    "ponto_b = (x2, y2)\n",
    "\n",
    "# Calcular e exibir a distância\n",
    "distancia = calcular_distancia(ponto_a, ponto_b)\n",
    "print(f\"\\nA distância entre {ponto_a} e {ponto_b} é {distancia:.2f}\")\n"
   ]
  },
  {
   "cell_type": "code",
   "execution_count": 3,
   "metadata": {},
   "outputs": [],
   "source": []
  },
  {
   "cell_type": "code",
   "execution_count": 2,
   "metadata": {},
   "outputs": [
    {
     "name": "stdout",
     "output_type": "stream",
     "text": [
      "Posições ótimas para os sensores: [[85.   7.5]\n",
      " [75.  70. ]\n",
      " [20.  30. ]]\n"
     ]
    }
   ],
   "source": [
    "from sklearn.cluster import KMeans\n",
    "import numpy as np\n",
    "def encontrar_distribuicao_otima(pontos_interesse, num_sensores, alcance_sensores=None):\n",
    "    \"\"\"\n",
    "    Encontra a distribuição ótima de sensores usando k-means e programação dinâmica (opcional).\n",
    "\n",
    "    Args:\n",
    "        pontos_interesse: Lista de tuplas (x, y) com as coordenadas dos pontos de interesse.\n",
    "        num_sensores: Número de sensores disponíveis.\n",
    "        alcance_sensores: (Opcional) Lista com o alcance de cada sensor. Se None, assume alcance infinito.\n",
    "\n",
    "    Returns:\n",
    "        Lista de tuplas (x, y) com as coordenadas ótimas para os sensores.\n",
    "    \"\"\"\n",
    "    if num_sensores > len(pontos_interesse):\n",
    "        raise ValueError(\"O número de sensores não pode exceder o número de pontos de interesse.\")\n",
    "\n",
    "    X = np.array(pontos_interesse)\n",
    "\n",
    "    # Clusterização inicial com k-means\n",
    "    kmeans = KMeans(n_clusters=num_sensores, random_state=0).fit(X)\n",
    "    centroides = kmeans.cluster_centers_\n",
    "\n",
    "    # Refinamento com programação dinâmica (opcional)\n",
    "    if alcance_sensores:\n",
    "        # Lógica de programação dinâmica para otimizar considerando o alcance dos sensores\n",
    "        # ... (implementação a ser adicionada)\n",
    "        pass\n",
    "\n",
    "    return centroides\n",
    "\n",
    "# Exemplo de uso\n",
    "pontos_interesse = [(10, 20), (30, 40), (50, 60), (80, 10), (90, 5), (100, 80)]\n",
    "num_sensores = 3\n",
    "alcance_sensores = [15, 20, 25]  # Exemplo de alcances (opcional)\n",
    "\n",
    "posicoes_otimas = encontrar_distribuicao_otima(pontos_interesse, num_sensores, alcance_sensores)\n",
    "print(\"Posições ótimas para os sensores:\", posicoes_otimas)"
   ]
  },
  {
   "cell_type": "code",
   "execution_count": null,
   "metadata": {},
   "outputs": [],
   "source": [
    "import tkinter as tk\n",
    "from tkinter import ttk\n",
    "from sklearn.cluster import KMeans\n",
    "import numpy as np\n",
    "import math\n",
    "\n",
    "def calcular_distancia(ponto1, ponto2):\n",
    "    \"\"\"Calcula a distância euclidiana entre dois pontos.\"\"\"\n",
    "    return math.sqrt((ponto1[0] - ponto2[0])**2 + (ponto1[1] - ponto2[1])**2)\n",
    "\n",
    "def encontrar_distribuicao_otima(pontos_interesse, num_sensores):\n",
    "    \"\"\"Encontra a distribuição ótima de sensores usando k-means.\"\"\"\n",
    "    # ... (código da função, igual ao exemplo anterior)\n",
    "\n",
    "def calcular_e_exibir():\n",
    "    num_pontos = int(entry_num_pontos.get())\n",
    "    pontos_possiveis = []\n",
    "    for i in range(num_pontos):\n",
    "        x = float(entry_x[i].get())\n",
    "        y = float(entry_y[i].get())\n",
    "        pontos_possiveis.append((x, y))\n",
    "\n",
    "    num_sensores = int(entry_num_sensores.get())\n",
    "    posicoes_otimas = encontrar_distribuicao_otima(pontos_possiveis, num_sensores)\n",
    "\n",
    "    resultado_label.config(text=f\"Posições ótimas para os sensores:\\n{posicoes_otimas}\")\n",
    "\n",
    "# Criar a janela principal\n",
    "janela = tk.Tk()\n",
    "janela.title(\"Otimização de Sensores\")\n",
    "\n",
    "# Widgets para entrada de dados\n",
    "label_num_pontos = ttk.Label(janela, text=\"Número de pontos:\")\n",
    "label_num_pontos.grid(row=0, column=0, padx=5, pady=5)\n",
    "entry_num_pontos = ttk.Entry(janela)\n",
    "entry_num_pontos.grid(row=0, column=1, padx=5, pady=5)\n",
    "\n",
    "label_x = []\n",
    "entry_x = []\n",
    "label_y = []\n",
    "entry_y = []\n",
    "for i in range(10):  # Máximo de 10 pontos (pode ser ajustado)\n",
    "    label_x.append(ttk.Label(janela, text=f\"x{i+1}:\"))\n",
    "    label_x[i].grid(row=i+1, column=0, padx=5, pady=5)\n",
    "    entry_x.append(ttk.Entry(janela))\n",
    "    entry_x[i].grid(row=i+1, column=1, padx=5, pady=5)\n",
    "\n",
    "    label_y.append(ttk.Label(janela, text=f\"y{i+1}:\"))\n",
    "    label_y[i].grid(row=i+1, column=2, padx=5, pady=5)\n",
    "    entry_y.append(ttk.Entry(janela))\n",
    "    entry_y[i].grid(row=i+1, column=3, padx=5, pady=5)\n",
    "\n",
    "label_num_sensores = ttk.Label(janela, text=\"Número de sensores:\")\n",
    "label_num_sensores.grid(row=11, column=0, padx=5, pady=5)\n",
    "entry_num_sensores = ttk.Entry(janela)\n",
    "entry_num_sensores.grid(row=11, column=1, padx=5, pady=5)\n",
    "\n",
    "# Botão para calcular e exibir resultados\n",
    "calcular_button = ttk.Button(janela, text=\"Calcular\", command=calcular_e_exibir)\n",
    "calcular_button.grid(row=12, column=0, columnspan=4, padx=5, pady=10)\n",
    "\n",
    "# Label para exibir os resultados\n",
    "resultado_label = ttk.Label(janela, text=\"\")\n",
    "resultado_label.grid(row=13, column=0, columnspan=4, padx=5, pady=5)\n",
    "\n",
    "janela.mainloop()"
   ]
  }
 ],
 "metadata": {
  "kernelspec": {
   "display_name": "Python 3",
   "language": "python",
   "name": "python3"
  },
  "language_info": {
   "codemirror_mode": {
    "name": "ipython",
    "version": 3
   },
   "file_extension": ".py",
   "mimetype": "text/x-python",
   "name": "python",
   "nbconvert_exporter": "python",
   "pygments_lexer": "ipython3",
   "version": "3.12.2"
  }
 },
 "nbformat": 4,
 "nbformat_minor": 2
}
